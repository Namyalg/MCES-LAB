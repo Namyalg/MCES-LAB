{
  "nbformat": 4,
  "nbformat_minor": 0,
  "metadata": {
    "colab": {
      "name": "Waterpump.ipynb",
      "provenance": [],
      "authorship_tag": "ABX9TyP0V2yn5KK6sPrGkQ3O4HFz",
      "include_colab_link": true
    },
    "kernelspec": {
      "name": "python3",
      "display_name": "Python 3"
    },
    "language_info": {
      "name": "python"
    }
  },
  "cells": [
    {
      "cell_type": "markdown",
      "metadata": {
        "id": "view-in-github",
        "colab_type": "text"
      },
      "source": [
        "<a href=\"https://colab.research.google.com/github/Namyalg/MCES-LAB/blob/main/Waterpump.ipynb\" target=\"_parent\"><img src=\"https://colab.research.google.com/assets/colab-badge.svg\" alt=\"Open In Colab\"/></a>"
      ]
    },
    {
      "cell_type": "code",
      "metadata": {
        "colab": {
          "base_uri": "https://localhost:8080/"
        },
        "id": "QTL25YwsfEWD",
        "outputId": "e6ef89df-ff22-487c-e23a-da8ce76e175a"
      },
      "source": [
        "!pip install thingspeak"
      ],
      "execution_count": null,
      "outputs": [
        {
          "output_type": "stream",
          "text": [
            "Requirement already satisfied: thingspeak in /usr/local/lib/python3.7/dist-packages (1.0.0)\n",
            "Requirement already satisfied: docopt<0.7.0,>=0.6.2 in /usr/local/lib/python3.7/dist-packages (from thingspeak) (0.6.2)\n",
            "Requirement already satisfied: requests<3.0,>=2.21 in /usr/local/lib/python3.7/dist-packages (from thingspeak) (2.23.0)\n",
            "Requirement already satisfied: certifi>=2017.4.17 in /usr/local/lib/python3.7/dist-packages (from requests<3.0,>=2.21->thingspeak) (2020.12.5)\n",
            "Requirement already satisfied: chardet<4,>=3.0.2 in /usr/local/lib/python3.7/dist-packages (from requests<3.0,>=2.21->thingspeak) (3.0.4)\n",
            "Requirement already satisfied: urllib3!=1.25.0,!=1.25.1,<1.26,>=1.21.1 in /usr/local/lib/python3.7/dist-packages (from requests<3.0,>=2.21->thingspeak) (1.24.3)\n",
            "Requirement already satisfied: idna<3,>=2.5 in /usr/local/lib/python3.7/dist-packages (from requests<3.0,>=2.21->thingspeak) (2.10)\n"
          ],
          "name": "stdout"
        }
      ]
    },
    {
      "cell_type": "code",
      "metadata": {
        "id": "swP_JM1Jf5R_"
      },
      "source": [
        "from urllib.request import urlopen"
      ],
      "execution_count": null,
      "outputs": []
    },
    {
      "cell_type": "code",
      "metadata": {
        "colab": {
          "base_uri": "https://localhost:8080/"
        },
        "id": "Wwq9C0VmgAoL",
        "outputId": "7adc9fe6-7f30-43c3-8c70-845bd103cd88"
      },
      "source": [
        "data = urlopen(\"https://api.thingspeak.com/channels/1363160/fields/1.json?results=2\")\n",
        "data = data.read().decode(\"UTF-8\")\n",
        "\n",
        "print(data)"
      ],
      "execution_count": null,
      "outputs": [
        {
          "output_type": "stream",
          "text": [
            "{\"channel\":{\"id\":1363160,\"name\":\"SoilandWater\",\"description\":\"Detect the level of moisture in soil and trigger a water pump to distribute water to a field\",\"latitude\":\"0.0\",\"longitude\":\"0.0\",\"field1\":\"Soil\",\"created_at\":\"2021-04-19T09:09:10Z\",\"updated_at\":\"2021-04-19T09:26:08Z\",\"last_entry_id\":79},\"feeds\":[{\"created_at\":\"2021-04-19T09:52:51Z\",\"entry_id\":78,\"field1\":\"0926\"},{\"created_at\":\"2021-04-19T09:53:07Z\",\"entry_id\":79,\"field1\":\"0247\"}]}\n"
          ],
          "name": "stdout"
        }
      ]
    },
    {
      "cell_type": "code",
      "metadata": {
        "colab": {
          "base_uri": "https://localhost:8080/"
        },
        "id": "OD0mxEAigRKH",
        "outputId": "0f590873-3d53-42f2-c06d-ee93caa44e5a"
      },
      "source": [
        "import ast\n",
        "import json\n",
        "#byte_str = b\"{'one': 1, 'two': 2}\"\n",
        "byte_str = urlopen(\"https://api.thingspeak.com/channels/1363160/fields/1.json?results=2\").read()\n",
        "#data = data.read().decode(\"UTF-8\")\n",
        "\n",
        "dict_str = byte_str.decode(\"UTF-8\")\n",
        "mydata = ast.literal_eval(dict_str)\n",
        "print(repr(mydata))\n",
        "\n",
        "dt = repr(mydata)"
      ],
      "execution_count": 23,
      "outputs": [
        {
          "output_type": "stream",
          "text": [
            "{'channel': {'id': 1363160, 'name': 'SoilandWater', 'description': 'Detect the level of moisture in soil and trigger a water pump to distribute water to a field', 'latitude': '0.0', 'longitude': '0.0', 'field1': 'Soil', 'created_at': '2021-04-19T09:09:10Z', 'updated_at': '2021-04-19T09:26:08Z', 'last_entry_id': 89}, 'feeds': [{'created_at': '2021-04-19T09:55:36Z', 'entry_id': 88, 'field1': '0511'}, {'created_at': '2021-04-19T09:55:52Z', 'entry_id': 89, 'field1': '0639'}]}\n"
          ],
          "name": "stdout"
        }
      ]
    },
    {
      "cell_type": "code",
      "metadata": {
        "colab": {
          "base_uri": "https://localhost:8080/"
        },
        "id": "cKJwS5u0jwV9",
        "outputId": "f90a0a10-90c7-42a9-ec97-146cb3b979ac"
      },
      "source": [
        "print(type(dt))"
      ],
      "execution_count": 24,
      "outputs": [
        {
          "output_type": "stream",
          "text": [
            "<class 'str'>\n"
          ],
          "name": "stdout"
        }
      ]
    },
    {
      "cell_type": "code",
      "metadata": {
        "colab": {
          "base_uri": "https://localhost:8080/"
        },
        "id": "_Ze0hAogjzd8",
        "outputId": "2a37e2de-370f-444d-833e-f0541fa35004"
      },
      "source": [
        "res = ast.literal_eval(dt)\n",
        "print(res)"
      ],
      "execution_count": 26,
      "outputs": [
        {
          "output_type": "stream",
          "text": [
            "{'channel': {'id': 1363160, 'name': 'SoilandWater', 'description': 'Detect the level of moisture in soil and trigger a water pump to distribute water to a field', 'latitude': '0.0', 'longitude': '0.0', 'field1': 'Soil', 'created_at': '2021-04-19T09:09:10Z', 'updated_at': '2021-04-19T09:26:08Z', 'last_entry_id': 89}, 'feeds': [{'created_at': '2021-04-19T09:55:36Z', 'entry_id': 88, 'field1': '0511'}, {'created_at': '2021-04-19T09:55:52Z', 'entry_id': 89, 'field1': '0639'}]}\n"
          ],
          "name": "stdout"
        }
      ]
    },
    {
      "cell_type": "code",
      "metadata": {
        "colab": {
          "base_uri": "https://localhost:8080/"
        },
        "id": "5Ss5g9eJj641",
        "outputId": "625a24f6-06d3-4ed6-e811-fad3e3d94d5f"
      },
      "source": [
        "print(type(res))"
      ],
      "execution_count": 27,
      "outputs": [
        {
          "output_type": "stream",
          "text": [
            "<class 'dict'>\n"
          ],
          "name": "stdout"
        }
      ]
    },
    {
      "cell_type": "code",
      "metadata": {
        "id": "wvLUUVpCkxNb"
      },
      "source": [
        "import time"
      ],
      "execution_count": 33,
      "outputs": []
    },
    {
      "cell_type": "code",
      "metadata": {
        "colab": {
          "base_uri": "https://localhost:8080/"
        },
        "id": "0RqR_2kEmwww",
        "outputId": "0e6902e3-508a-428a-ba77-04623a340ce6"
      },
      "source": [
        "print(urlopen(\"https://api.thingspeak.com/channels/1363160/fields/1.json?results=2\").read())"
      ],
      "execution_count": 38,
      "outputs": [
        {
          "output_type": "stream",
          "text": [
            "b'{\"channel\":{\"id\":1363160,\"name\":\"SoilandWater\",\"description\":\"Detect the level of moisture in soil and trigger a water pump to distribute water to a field\",\"latitude\":\"0.0\",\"longitude\":\"0.0\",\"field1\":\"Soil\",\"created_at\":\"2021-04-19T09:09:10Z\",\"updated_at\":\"2021-04-19T09:26:08Z\",\"last_entry_id\":235},\"feeds\":[{\"created_at\":\"2021-04-19T10:33:34Z\",\"entry_id\":234,\"field1\":\"0759\"},{\"created_at\":\"2021-04-19T10:33:49Z\",\"entry_id\":235,\"field1\":\"0366\"}]}'\n"
          ],
          "name": "stdout"
        }
      ]
    },
    {
      "cell_type": "code",
      "metadata": {
        "colab": {
          "base_uri": "https://localhost:8080/"
        },
        "id": "b0jBfm6Dj9Dl",
        "outputId": "d34809bf-300f-4e27-f5e7-e20d20ba5cff"
      },
      "source": [
        "while True:\n",
        "  byte_str = urlopen(\"https://api.thingspeak.com/channels/1363160/fields/1.json?results=2\").read()\n",
        "  #data = data.read().decode(\"UTF-8\")\n",
        "  r -= 1\n",
        "  dict_str = byte_str.decode(\"UTF-8\")\n",
        "  mydata = ast.literal_eval(dict_str)\n",
        "  dt = repr(mydata)\n",
        "  res = ast.literal_eval(dt)\n",
        "\n",
        "  last_val = res[\"feeds\"][-1][\"field1\"]\n",
        "  \n",
        "  print(\"The value of the soil read is \", last_val)\n",
        "  time.sleep(15)"
      ],
      "execution_count": null,
      "outputs": [
        {
          "output_type": "stream",
          "text": [
            "The value of the soil read is  0412\n",
            "The value of the soil read is  0372\n",
            "The value of the soil read is  0536\n",
            "The value of the soil read is  0974\n",
            "The value of the soil read is  0294\n",
            "The value of the soil read is  0377\n",
            "The value of the soil read is  0847\n",
            "The value of the soil read is  0558\n",
            "The value of the soil read is  0289\n",
            "The value of the soil read is  01023\n",
            "The value of the soil read is  0779\n",
            "The value of the soil read is  0294\n",
            "The value of the soil read is  0790\n",
            "The value of the soil read is  0842\n",
            "The value of the soil read is  0481\n",
            "The value of the soil read is  0891\n",
            "The value of the soil read is  0948\n",
            "The value of the soil read is  0706\n",
            "The value of the soil read is  0355\n",
            "The value of the soil read is  0610\n",
            "The value of the soil read is  0188\n",
            "The value of the soil read is  0529\n",
            "The value of the soil read is  0644\n",
            "The value of the soil read is  093\n",
            "The value of the soil read is  0214\n",
            "The value of the soil read is  0496\n",
            "The value of the soil read is  0174\n",
            "The value of the soil read is  0889\n",
            "The value of the soil read is  0151\n",
            "The value of the soil read is  0868\n",
            "The value of the soil read is  0314\n",
            "The value of the soil read is  0675\n",
            "The value of the soil read is  0118\n",
            "The value of the soil read is  0735\n",
            "The value of the soil read is  0340\n",
            "The value of the soil read is  0312\n",
            "The value of the soil read is  0933\n",
            "The value of the soil read is  0915\n",
            "The value of the soil read is  0209\n",
            "The value of the soil read is  0192\n",
            "The value of the soil read is  0433\n",
            "The value of the soil read is  0327\n",
            "The value of the soil read is  0462\n",
            "The value of the soil read is  0167\n",
            "The value of the soil read is  0260\n",
            "The value of the soil read is  0336\n",
            "The value of the soil read is  0265\n",
            "The value of the soil read is  0114\n",
            "The value of the soil read is  0464\n",
            "The value of the soil read is  0399\n",
            "The value of the soil read is  0171\n",
            "The value of the soil read is  0202\n",
            "The value of the soil read is  0718\n",
            "The value of the soil read is  0777\n",
            "The value of the soil read is  0485\n",
            "The value of the soil read is  0386\n",
            "The value of the soil read is  0533\n",
            "The value of the soil read is  0617\n",
            "The value of the soil read is  0787\n",
            "The value of the soil read is  0198\n",
            "The value of the soil read is  081\n",
            "The value of the soil read is  0672\n",
            "The value of the soil read is  0673\n",
            "The value of the soil read is  0792\n",
            "The value of the soil read is  0933\n",
            "The value of the soil read is  054\n",
            "The value of the soil read is  01007\n",
            "The value of the soil read is  0431\n",
            "The value of the soil read is  0207\n",
            "The value of the soil read is  0617\n",
            "The value of the soil read is  0331\n",
            "The value of the soil read is  0289\n",
            "The value of the soil read is  0953\n",
            "The value of the soil read is  0778\n",
            "The value of the soil read is  0392\n",
            "The value of the soil read is  0205\n",
            "The value of the soil read is  0285\n",
            "The value of the soil read is  0944\n",
            "The value of the soil read is  0952\n",
            "The value of the soil read is  0905\n",
            "The value of the soil read is  0744\n",
            "The value of the soil read is  01015\n",
            "The value of the soil read is  0676\n",
            "The value of the soil read is  0260\n",
            "The value of the soil read is  0938\n",
            "The value of the soil read is  042\n",
            "The value of the soil read is  0399\n",
            "The value of the soil read is  0109\n",
            "The value of the soil read is  097\n",
            "The value of the soil read is  0917\n",
            "The value of the soil read is  0115\n",
            "The value of the soil read is  0346\n",
            "The value of the soil read is  0258\n",
            "The value of the soil read is  0962\n",
            "The value of the soil read is  0824\n",
            "The value of the soil read is  0494\n",
            "The value of the soil read is  0806\n",
            "The value of the soil read is  0234\n",
            "The value of the soil read is  0171\n",
            "The value of the soil read is  0297\n",
            "The value of the soil read is  061\n",
            "The value of the soil read is  0487\n",
            "The value of the soil read is  0922\n",
            "The value of the soil read is  0737\n",
            "The value of the soil read is  0210\n",
            "The value of the soil read is  0872\n",
            "The value of the soil read is  0434\n",
            "The value of the soil read is  0241\n",
            "The value of the soil read is  0694\n",
            "The value of the soil read is  0872\n",
            "The value of the soil read is  00\n",
            "The value of the soil read is  0557\n",
            "The value of the soil read is  0606\n",
            "The value of the soil read is  0704\n",
            "The value of the soil read is  0225\n",
            "The value of the soil read is  0718\n",
            "The value of the soil read is  0898\n",
            "The value of the soil read is  0632\n",
            "The value of the soil read is  0426\n",
            "The value of the soil read is  0399\n",
            "The value of the soil read is  0639\n",
            "The value of the soil read is  0195\n",
            "The value of the soil read is  0801\n",
            "The value of the soil read is  0761\n",
            "The value of the soil read is  0722\n",
            "The value of the soil read is  0224\n",
            "The value of the soil read is  0677\n",
            "The value of the soil read is  0831\n",
            "The value of the soil read is  0874\n",
            "The value of the soil read is  0316\n",
            "The value of the soil read is  0783\n"
          ],
          "name": "stdout"
        }
      ]
    },
    {
      "cell_type": "code",
      "metadata": {
        "colab": {
          "base_uri": "https://localhost:8080/"
        },
        "id": "JJoCXPl1iVQa",
        "outputId": "db134fd8-5ed7-45e9-e877-96aead3f04b3"
      },
      "source": [
        "data = urlopen(\"https://api.thingspeak.com/channels/1363160/fields/1.json?results=2\")\n",
        "data = data.read().decode(\"UTF-8\")\n",
        "\n",
        "print(data)"
      ],
      "execution_count": null,
      "outputs": [
        {
          "output_type": "stream",
          "text": [
            "{\"channel\":{\"id\":1363160,\"name\":\"SoilandWater\",\"description\":\"Detect the level of moisture in soil and trigger a water pump to distribute water to a field\",\"latitude\":\"0.0\",\"longitude\":\"0.0\",\"field1\":\"Soil\",\"created_at\":\"2021-04-19T09:09:10Z\",\"updated_at\":\"2021-04-19T09:26:08Z\",\"last_entry_id\":63},\"feeds\":[{\"created_at\":\"2021-04-19T09:48:27Z\",\"entry_id\":62,\"field1\":\"0170\"},{\"created_at\":\"2021-04-19T09:48:44Z\",\"entry_id\":63,\"field1\":\"053\"}]}\n"
          ],
          "name": "stdout"
        }
      ]
    },
    {
      "cell_type": "code",
      "metadata": {
        "id": "ZYG1dF8aiR1P"
      },
      "source": [
        ""
      ],
      "execution_count": null,
      "outputs": []
    }
  ]
}
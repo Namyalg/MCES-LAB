{
  "nbformat": 4,
  "nbformat_minor": 0,
  "metadata": {
    "colab": {
      "name": "Thingspeak.ipynb",
      "provenance": [],
      "authorship_tag": "ABX9TyPlznyI1EyS8aYZNFOEv6Od",
      "include_colab_link": true
    },
    "kernelspec": {
      "name": "python3",
      "display_name": "Python 3"
    },
    "language_info": {
      "name": "python"
    }
  },
  "cells": [
    {
      "cell_type": "markdown",
      "metadata": {
        "id": "view-in-github",
        "colab_type": "text"
      },
      "source": [
        "<a href=\"https://colab.research.google.com/github/Namyalg/MCES-LAB/blob/main/Thingspeak.ipynb\" target=\"_parent\"><img src=\"https://colab.research.google.com/assets/colab-badge.svg\" alt=\"Open In Colab\"/></a>"
      ]
    },
    {
      "cell_type": "code",
      "metadata": {
        "colab": {
          "base_uri": "https://localhost:8080/"
        },
        "id": "62IBSHJYX3HV",
        "outputId": "22fe365d-87f7-4c69-bc94-753f2fb11ea1"
      },
      "source": [
        "!pip install thingspeak"
      ],
      "execution_count": null,
      "outputs": [
        {
          "output_type": "stream",
          "text": [
            "Collecting thingspeak\n",
            "  Downloading https://files.pythonhosted.org/packages/98/ed/45d9c40622dc772943cfc30f7c0d46e4e12b2c2c72ca6bd8f461564f15b0/thingspeak-1.0.0-py3-none-any.whl\n",
            "Requirement already satisfied: requests<3.0,>=2.21 in /usr/local/lib/python3.7/dist-packages (from thingspeak) (2.23.0)\n",
            "Requirement already satisfied: docopt<0.7.0,>=0.6.2 in /usr/local/lib/python3.7/dist-packages (from thingspeak) (0.6.2)\n",
            "Requirement already satisfied: idna<3,>=2.5 in /usr/local/lib/python3.7/dist-packages (from requests<3.0,>=2.21->thingspeak) (2.10)\n",
            "Requirement already satisfied: chardet<4,>=3.0.2 in /usr/local/lib/python3.7/dist-packages (from requests<3.0,>=2.21->thingspeak) (3.0.4)\n",
            "Requirement already satisfied: urllib3!=1.25.0,!=1.25.1,<1.26,>=1.21.1 in /usr/local/lib/python3.7/dist-packages (from requests<3.0,>=2.21->thingspeak) (1.24.3)\n",
            "Requirement already satisfied: certifi>=2017.4.17 in /usr/local/lib/python3.7/dist-packages (from requests<3.0,>=2.21->thingspeak) (2020.12.5)\n",
            "Installing collected packages: thingspeak\n",
            "Successfully installed thingspeak-1.0.0\n"
          ],
          "name": "stdout"
        }
      ]
    },
    {
      "cell_type": "code",
      "metadata": {
        "colab": {
          "base_uri": "https://localhost:8080/"
        },
        "id": "fBKRtptjX7id",
        "outputId": "a37dacde-aaf1-4678-962b-61dd58f6edd7"
      },
      "source": [
        "import random\n",
        "import time\n",
        "from urllib.request import urlopen"
      ],
      "execution_count": null,
      "outputs": [
        {
          "output_type": "stream",
          "text": [
            "22\n"
          ],
          "name": "stdout"
        }
      ]
    },
    {
      "cell_type": "code",
      "metadata": {
        "id": "cgHHzEG-aiIC"
      },
      "source": [
        "import thingspeak"
      ],
      "execution_count": null,
      "outputs": []
    },
    {
      "cell_type": "code",
      "metadata": {
        "id": "FImn32SpdGzI"
      },
      "source": [
        "import urllib"
      ],
      "execution_count": null,
      "outputs": []
    },
    {
      "cell_type": "code",
      "metadata": {
        "id": "xc0xqN45dIal"
      },
      "source": [
        "from bs4 import BeautifulSoup"
      ],
      "execution_count": null,
      "outputs": []
    },
    {
      "cell_type": "code",
      "metadata": {
        "id": "Q6gutWSPePnI"
      },
      "source": [
        "import time"
      ],
      "execution_count": null,
      "outputs": []
    },
    {
      "cell_type": "code",
      "metadata": {
        "colab": {
          "base_uri": "https://localhost:8080/"
        },
        "id": "jZZf52gOdRyB",
        "outputId": "093686b0-9cc4-469e-fed5-b84ae6e80944"
      },
      "source": [
        "while True:\n",
        "  soil_moisture = random.randint(0, 1024)\n",
        "  print(\"The soil moisture is \", soil_moisture)\n",
        "  \n",
        "  write_url = urlopen(\"https://api.thingspeak.com/update?api_key=JHM5I1TQY2FKHJ6J&field1=0\" + str(soil_moisture))\n",
        "  print(write_url)\n",
        "  time.sleep(15)"
      ],
      "execution_count": null,
      "outputs": [
        {
          "output_type": "stream",
          "text": [
            "The soil moisture is  836\n",
            "<http.client.HTTPResponse object at 0x7fa0ecc1fe50>\n"
          ],
          "name": "stdout"
        }
      ]
    },
    {
      "cell_type": "code",
      "metadata": {
        "id": "esf6IwYedsxR"
      },
      "source": [
        ""
      ],
      "execution_count": null,
      "outputs": []
    }
  ]
}